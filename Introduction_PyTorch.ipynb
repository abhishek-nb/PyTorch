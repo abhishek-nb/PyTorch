{
  "nbformat": 4,
  "nbformat_minor": 0,
  "metadata": {
    "colab": {
      "name": "Introduction_PyTorch.ipynb",
      "provenance": [],
      "authorship_tag": "ABX9TyNyEDxFGpR/RyNielC7jOAZ",
      "include_colab_link": true
    },
    "kernelspec": {
      "name": "python3",
      "display_name": "Python 3"
    },
    "language_info": {
      "name": "python"
    },
    "accelerator": "GPU"
  },
  "cells": [
    {
      "cell_type": "markdown",
      "metadata": {
        "id": "view-in-github",
        "colab_type": "text"
      },
      "source": [
        "<a href=\"https://colab.research.google.com/github/AbhishekKaushikCV/PyTorch/blob/main/Introduction_PyTorch.ipynb\" target=\"_parent\"><img src=\"https://colab.research.google.com/assets/colab-badge.svg\" alt=\"Open In Colab\"/></a>"
      ]
    },
    {
      "cell_type": "markdown",
      "source": [
        "### Tutorial 2: Introduction to PyTorch\n",
        "- PyTorch is an open source machine learning framework that allows you to write your own neural networks and optimize them efficiently"
      ],
      "metadata": {
        "id": "1tIApjZzM8KD"
      }
    },
    {
      "cell_type": "code",
      "execution_count": null,
      "metadata": {
        "id": "VTz_aChEM6ij"
      },
      "outputs": [],
      "source": [
        "## Standard libraries\n",
        "import os\n",
        "import math\n",
        "import numpy as np \n",
        "import time\n",
        "\n",
        "## Imports for plotting\n",
        "import matplotlib.pyplot as plt\n",
        "%matplotlib inline \n",
        "from IPython.display import set_matplotlib_formats\n",
        "set_matplotlib_formats('svg', 'pdf') # For export\n",
        "from matplotlib.colors import to_rgba\n",
        "import seaborn as sns\n",
        "sns.set()\n",
        "\n",
        "## Progress bar\n",
        "from tqdm.notebook import tqdm"
      ]
    },
    {
      "cell_type": "markdown",
      "source": [
        "### The basics of PyTorch"
      ],
      "metadata": {
        "id": "1wl3zGJINYJC"
      }
    },
    {
      "cell_type": "code",
      "source": [
        "import torch\n",
        "print(\"Using torch:\",torch.__version__)"
      ],
      "metadata": {
        "colab": {
          "base_uri": "https://localhost:8080/"
        },
        "id": "I4rf2E1LOXgr",
        "outputId": "e52d5b86-826b-4527-e6cd-ea645c733e81"
      },
      "execution_count": null,
      "outputs": [
        {
          "output_type": "stream",
          "name": "stdout",
          "text": [
            "Using torch: 1.10.0+cu111\n"
          ]
        }
      ]
    },
    {
      "cell_type": "code",
      "source": [
        "# Set the seed\n",
        "torch.manual_seed(42)"
      ],
      "metadata": {
        "colab": {
          "base_uri": "https://localhost:8080/"
        },
        "id": "iL_soH9hOqmW",
        "outputId": "6bd6ffb2-888e-4de2-b2d7-6f60f4e8c2a7"
      },
      "execution_count": null,
      "outputs": [
        {
          "output_type": "execute_result",
          "data": {
            "text/plain": [
              "<torch._C.Generator at 0x7ff1c6edd3b0>"
            ]
          },
          "metadata": {},
          "execution_count": 4
        }
      ]
    },
    {
      "cell_type": "markdown",
      "source": [
        "### Tensors:\n",
        "- torch.Tensor()\n",
        "- torch.zeros()\n",
        "- torch.ones()\n",
        "- torch.rand()\n",
        "- torch.randn()\n",
        "- torch.arange()\n"
      ],
      "metadata": {
        "id": "aqyl3NBaOzSG"
      }
    },
    {
      "cell_type": "code",
      "source": [
        "x = torch.Tensor(2,3,4)\n",
        "print(x)"
      ],
      "metadata": {
        "colab": {
          "base_uri": "https://localhost:8080/"
        },
        "id": "8oCz_6R4O1a9",
        "outputId": "5338ef8b-83ed-4f24-8431-022c3629cbfb"
      },
      "execution_count": null,
      "outputs": [
        {
          "output_type": "stream",
          "name": "stdout",
          "text": [
            "tensor([[[5.6244e+09, 3.0855e-41, 7.0065e-44, 6.8664e-44],\n",
            "         [6.3058e-44, 6.8664e-44, 7.0065e-44, 6.3058e-44],\n",
            "         [7.0065e-44, 7.1466e-44, 1.1771e-43, 6.8664e-44]],\n",
            "\n",
            "        [[7.0065e-44, 8.1275e-44, 7.0065e-44, 6.7262e-44],\n",
            "         [8.1275e-44, 6.8664e-44, 7.1466e-44, 6.4460e-44],\n",
            "         [7.0065e-44, 6.8664e-44, 7.8473e-44, 7.2868e-44]]])\n"
          ]
        }
      ]
    },
    {
      "cell_type": "code",
      "source": [
        "x = torch.zeros(2,3,4)\n",
        "print(x)"
      ],
      "metadata": {
        "colab": {
          "base_uri": "https://localhost:8080/"
        },
        "id": "ZWqMTtDLPHEx",
        "outputId": "755f25ee-0322-45c1-d884-35d025472b43"
      },
      "execution_count": null,
      "outputs": [
        {
          "output_type": "stream",
          "name": "stdout",
          "text": [
            "tensor([[[0., 0., 0., 0.],\n",
            "         [0., 0., 0., 0.],\n",
            "         [0., 0., 0., 0.]],\n",
            "\n",
            "        [[0., 0., 0., 0.],\n",
            "         [0., 0., 0., 0.],\n",
            "         [0., 0., 0., 0.]]])\n"
          ]
        }
      ]
    },
    {
      "cell_type": "code",
      "source": [
        "x = torch.rand(2,3,4)\n",
        "print(x)"
      ],
      "metadata": {
        "colab": {
          "base_uri": "https://localhost:8080/"
        },
        "id": "m9VMJ_gqPixm",
        "outputId": "532a1843-24cd-4f61-fe41-7697f7d2a382"
      },
      "execution_count": null,
      "outputs": [
        {
          "output_type": "stream",
          "name": "stdout",
          "text": [
            "tensor([[[0.8823, 0.9150, 0.3829, 0.9593],\n",
            "         [0.3904, 0.6009, 0.2566, 0.7936],\n",
            "         [0.9408, 0.1332, 0.9346, 0.5936]],\n",
            "\n",
            "        [[0.8694, 0.5677, 0.7411, 0.4294],\n",
            "         [0.8854, 0.5739, 0.2666, 0.6274],\n",
            "         [0.2696, 0.4414, 0.2969, 0.8317]]])\n"
          ]
        }
      ]
    },
    {
      "cell_type": "code",
      "source": [
        "x = torch.randn(2,3,4)\n",
        "print(x)"
      ],
      "metadata": {
        "colab": {
          "base_uri": "https://localhost:8080/"
        },
        "id": "S1Nv4GVxPqDz",
        "outputId": "15b89b6b-5ca4-419e-e8a7-60c71cbbb0ab"
      },
      "execution_count": null,
      "outputs": [
        {
          "output_type": "stream",
          "name": "stdout",
          "text": [
            "tensor([[[ 0.3559, -0.6866, -0.4934,  0.2415],\n",
            "         [-1.1109,  0.0915, -2.3169, -0.2168],\n",
            "         [-0.9138, -0.6581,  0.0780,  0.5258]],\n",
            "\n",
            "        [[-0.4880,  1.1914, -0.8140, -0.7360],\n",
            "         [-1.4032,  0.0360, -0.0635,  0.6756],\n",
            "         [-0.0978,  1.8446, -1.1845,  1.3835]]])\n"
          ]
        }
      ]
    },
    {
      "cell_type": "code",
      "source": [
        "x = torch.arange(1,10)\n",
        "print(x)"
      ],
      "metadata": {
        "colab": {
          "base_uri": "https://localhost:8080/"
        },
        "id": "atdZem52P1KO",
        "outputId": "a96e4a0c-1315-43fe-ec38-ceb05ebd341c"
      },
      "execution_count": null,
      "outputs": [
        {
          "output_type": "stream",
          "name": "stdout",
          "text": [
            "tensor([1, 2, 3, 4, 5, 6, 7, 8, 9])\n"
          ]
        }
      ]
    },
    {
      "cell_type": "code",
      "source": [
        "y = x.view(3,3)\n",
        "print(y)"
      ],
      "metadata": {
        "colab": {
          "base_uri": "https://localhost:8080/"
        },
        "id": "HBj_lXQzQxuo",
        "outputId": "b3759392-69f0-4eaa-eaf1-63fa0daeed44"
      },
      "execution_count": null,
      "outputs": [
        {
          "output_type": "stream",
          "name": "stdout",
          "text": [
            "tensor([[1, 2, 3],\n",
            "        [4, 5, 6],\n",
            "        [7, 8, 9]])\n"
          ]
        }
      ]
    },
    {
      "cell_type": "code",
      "source": [
        "shape=y.shape\n",
        "print(shape)"
      ],
      "metadata": {
        "colab": {
          "base_uri": "https://localhost:8080/"
        },
        "id": "MIQAqc26RnMS",
        "outputId": "8cf31af4-17e2-4132-83f4-08686f07b5cc"
      },
      "execution_count": null,
      "outputs": [
        {
          "output_type": "stream",
          "name": "stdout",
          "text": [
            "torch.Size([3, 3])\n"
          ]
        }
      ]
    },
    {
      "cell_type": "code",
      "source": [
        "x = torch.Tensor(2,3,4)\n",
        "dim1, dim2, dim3 = x.size()\n",
        "print(\"Size:\", dim1, dim2, dim3)"
      ],
      "metadata": {
        "colab": {
          "base_uri": "https://localhost:8080/"
        },
        "id": "oVkQulIrRw52",
        "outputId": "f42c6760-6faa-48f0-a4b5-2224b435ae27"
      },
      "execution_count": null,
      "outputs": [
        {
          "output_type": "stream",
          "name": "stdout",
          "text": [
            "Size: 2 3 4\n"
          ]
        }
      ]
    },
    {
      "cell_type": "markdown",
      "source": [
        "### Tensor to NumPy and vice-versa"
      ],
      "metadata": {
        "id": "YwO3inOMSGFL"
      }
    },
    {
      "cell_type": "code",
      "source": [
        "np_arr = np.array([[1,2,3],[4,5,6],[7,8,9]])\n",
        "np_arr"
      ],
      "metadata": {
        "colab": {
          "base_uri": "https://localhost:8080/"
        },
        "id": "OR39LxUFSKws",
        "outputId": "cb38eedd-4f89-4a56-ec42-687769bc8b64"
      },
      "execution_count": null,
      "outputs": [
        {
          "output_type": "execute_result",
          "data": {
            "text/plain": [
              "array([[1, 2, 3],\n",
              "       [4, 5, 6],\n",
              "       [7, 8, 9]])"
            ]
          },
          "metadata": {},
          "execution_count": 33
        }
      ]
    },
    {
      "cell_type": "code",
      "source": [
        "tensor = torch.from_numpy(np_arr)\n",
        "tensor"
      ],
      "metadata": {
        "colab": {
          "base_uri": "https://localhost:8080/"
        },
        "id": "Dqfb5ultSl-d",
        "outputId": "59ba8e63-2290-40fd-d44e-de4c84137ae2"
      },
      "execution_count": null,
      "outputs": [
        {
          "output_type": "execute_result",
          "data": {
            "text/plain": [
              "tensor([[1, 2, 3],\n",
              "        [4, 5, 6],\n",
              "        [7, 8, 9]])"
            ]
          },
          "metadata": {},
          "execution_count": 35
        }
      ]
    },
    {
      "cell_type": "code",
      "source": [
        "arr = tensor.numpy()\n",
        "arr"
      ],
      "metadata": {
        "colab": {
          "base_uri": "https://localhost:8080/"
        },
        "id": "pUA_YUR0S1JY",
        "outputId": "97e1d6fc-04dc-4f86-f8d0-0963bfdb4c51"
      },
      "execution_count": null,
      "outputs": [
        {
          "output_type": "execute_result",
          "data": {
            "text/plain": [
              "array([[1, 2, 3],\n",
              "       [4, 5, 6],\n",
              "       [7, 8, 9]])"
            ]
          },
          "metadata": {},
          "execution_count": 37
        }
      ]
    },
    {
      "cell_type": "markdown",
      "source": [
        "- In case you have a tensor on GPU, you need to call `.cpu()` on the tensor beforehand. Hence, you get a line like `np_arr = tensor.cpu().numpy()`."
      ],
      "metadata": {
        "id": "d72DI_ubTLnY"
      }
    },
    {
      "cell_type": "markdown",
      "source": [
        "### Tensor Operations:\n"
      ],
      "metadata": {
        "id": "atvhj6u-VPqV"
      }
    },
    {
      "cell_type": "code",
      "source": [
        "# Addition\n",
        "x1 = torch.rand(3,3)\n",
        "x2 = torch.rand(3,3)\n",
        "print(x1)\n",
        "print(x2)\n",
        "y = x1 + x2\n",
        "print(y)"
      ],
      "metadata": {
        "colab": {
          "base_uri": "https://localhost:8080/"
        },
        "id": "xUK764aTTerM",
        "outputId": "ee0f5edb-84f6-461f-bc74-96fb02217faf"
      },
      "execution_count": null,
      "outputs": [
        {
          "output_type": "stream",
          "name": "stdout",
          "text": [
            "tensor([[0.6044, 0.7581, 0.9037],\n",
            "        [0.9555, 0.1035, 0.6258],\n",
            "        [0.2849, 0.4452, 0.1258]])\n",
            "tensor([[0.9554, 0.1330, 0.7672],\n",
            "        [0.6757, 0.6625, 0.2297],\n",
            "        [0.9545, 0.6099, 0.5643]])\n",
            "tensor([[1.5599, 0.8912, 1.6709],\n",
            "        [1.6312, 0.7660, 0.8555],\n",
            "        [1.2394, 1.0551, 0.6901]])\n"
          ]
        }
      ]
    },
    {
      "cell_type": "code",
      "source": [
        "# Inplace addition\n",
        "x1 = torch.rand(3,3)\n",
        "x2 = torch.rand(3,3)\n",
        "\n",
        "print(x1)\n",
        "print('Before add:',x2)\n",
        "\n",
        "x2.add_(x1)\n",
        "print('After add:',x2)"
      ],
      "metadata": {
        "colab": {
          "base_uri": "https://localhost:8080/"
        },
        "id": "peO0P45lV_n9",
        "outputId": "7f6a20bd-17f6-4b85-bf6b-7eca0aa76031"
      },
      "execution_count": null,
      "outputs": [
        {
          "output_type": "stream",
          "name": "stdout",
          "text": [
            "tensor([[0.0594, 0.7099, 0.4250],\n",
            "        [0.2709, 0.9295, 0.6115],\n",
            "        [0.2234, 0.2469, 0.4761]])\n",
            "Before add: tensor([[0.7792, 0.3722, 0.2147],\n",
            "        [0.3288, 0.1265, 0.6783],\n",
            "        [0.8870, 0.0293, 0.6161]])\n",
            "After add: tensor([[0.8386, 1.0821, 0.6397],\n",
            "        [0.5997, 1.0559, 1.2898],\n",
            "        [1.1104, 0.2762, 1.0922]])\n"
          ]
        }
      ]
    },
    {
      "cell_type": "code",
      "source": [
        "# Changing the shape of the tensor\n",
        "x = torch.arange(6)\n",
        "print(\"X:\",x)"
      ],
      "metadata": {
        "colab": {
          "base_uri": "https://localhost:8080/"
        },
        "id": "Ulu5rQITW5LH",
        "outputId": "aea5a7d7-40bf-432d-9fcf-a292ff1ea00b"
      },
      "execution_count": null,
      "outputs": [
        {
          "output_type": "stream",
          "name": "stdout",
          "text": [
            "X: tensor([0, 1, 2, 3, 4, 5])\n"
          ]
        }
      ]
    },
    {
      "cell_type": "code",
      "source": [
        "x = x.view(2, 3)\n",
        "print(\"X\", x)\n",
        "print(x.shape)\n"
      ],
      "metadata": {
        "colab": {
          "base_uri": "https://localhost:8080/"
        },
        "id": "I7JE4vlXXW59",
        "outputId": "d1a81518-847e-4234-d57f-161d5622ad8f"
      },
      "execution_count": null,
      "outputs": [
        {
          "output_type": "stream",
          "name": "stdout",
          "text": [
            "X tensor([[0, 1, 2],\n",
            "        [3, 4, 5]])\n",
            "torch.Size([2, 3])\n"
          ]
        }
      ]
    },
    {
      "cell_type": "code",
      "source": [
        "# Swapping dimension '0' and '1'\n",
        "x = x.permute(1,0)\n",
        "print(\"X:\",x)\n",
        "print(\"Swapped axes:\",x.shape)"
      ],
      "metadata": {
        "colab": {
          "base_uri": "https://localhost:8080/"
        },
        "id": "qLXaOzxjXpdM",
        "outputId": "6f0ebe71-b46f-4163-ace8-482b4af4f340"
      },
      "execution_count": null,
      "outputs": [
        {
          "output_type": "stream",
          "name": "stdout",
          "text": [
            "X: tensor([[0, 3],\n",
            "        [1, 4],\n",
            "        [2, 5]])\n",
            "Swapped axes: torch.Size([3, 2])\n"
          ]
        }
      ]
    },
    {
      "cell_type": "code",
      "source": [
        "# Matrix multiplication\n",
        "x = torch.arange(6)\n",
        "x = x.view(2,3)\n",
        "print(\"X:\",x)\n",
        "\n",
        "y = torch.arange(6)\n",
        "y = y.view(3,2)\n",
        "print(\"Y:\",y)\n",
        "\n",
        "p = torch.matmul(x,y)\n",
        "print(\"Product:\",p)\n",
        "\n"
      ],
      "metadata": {
        "colab": {
          "base_uri": "https://localhost:8080/"
        },
        "id": "WafnMj0gcITa",
        "outputId": "5937501d-d3d9-46b3-eee1-258e1994e392"
      },
      "execution_count": null,
      "outputs": [
        {
          "output_type": "stream",
          "name": "stdout",
          "text": [
            "X: tensor([[0, 1, 2],\n",
            "        [3, 4, 5]])\n",
            "Y: tensor([[0, 1],\n",
            "        [2, 3],\n",
            "        [4, 5]])\n",
            "Product: tensor([[10, 13],\n",
            "        [28, 40]])\n"
          ]
        }
      ]
    },
    {
      "cell_type": "markdown",
      "source": [
        "### Indexing:"
      ],
      "metadata": {
        "id": "upxKTDNBc00c"
      }
    },
    {
      "cell_type": "code",
      "source": [
        "x = torch.arange(12).view(3,4)\n",
        "print(\"X:\",x)"
      ],
      "metadata": {
        "colab": {
          "base_uri": "https://localhost:8080/"
        },
        "id": "7Zxb7e2Xc3RL",
        "outputId": "eb0bffdd-5fa6-4b89-90c8-c601a38c7bb1"
      },
      "execution_count": null,
      "outputs": [
        {
          "output_type": "stream",
          "name": "stdout",
          "text": [
            "X: tensor([[ 0,  1,  2,  3],\n",
            "        [ 4,  5,  6,  7],\n",
            "        [ 8,  9, 10, 11]])\n"
          ]
        }
      ]
    },
    {
      "cell_type": "code",
      "source": [
        "x[:,]"
      ],
      "metadata": {
        "colab": {
          "base_uri": "https://localhost:8080/"
        },
        "id": "eO0T3bNadt_x",
        "outputId": "f551af90-4156-42ce-a0a0-0a039fe212f3"
      },
      "execution_count": null,
      "outputs": [
        {
          "output_type": "execute_result",
          "data": {
            "text/plain": [
              "tensor([1, 5, 9])"
            ]
          },
          "metadata": {},
          "execution_count": 87
        }
      ]
    }
  ]
}